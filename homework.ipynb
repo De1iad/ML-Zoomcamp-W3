{
 "cells": [
  {
   "cell_type": "code",
   "execution_count": 13,
   "metadata": {},
   "outputs": [
    {
     "data": {
      "text/plain": [
       "0    <1H OCEAN\n",
       "Name: ocean_proximity, dtype: object"
      ]
     },
     "execution_count": 13,
     "metadata": {},
     "output_type": "execute_result"
    }
   ],
   "source": [
    "import pandas as pd\n",
    "import numpy as np\n",
    "\n",
    "df = pd.read_csv('housing.csv')\n",
    "df = df[[\"latitude\", \"longitude\", \"housing_median_age\", \"total_rooms\", \"total_bedrooms\", \"population\", \n",
    "\t\"households\", \"median_income\", \"median_house_value\", \"ocean_proximity\"]].copy()\n",
    "df = df.fillna(0).copy()\n",
    "df[\"rooms_per_household\"] = df[\"total_rooms\"] / df[\"households\"]\n",
    "df[\"bedrooms_per_room\"] = df[\"total_bedrooms\"] / df[\"total_rooms\"]\n",
    "df[\"population_per_household\"] = df[\"population\"] / df[\"households\"]\n",
    "df[\"ocean_proximity\"].mode()"
   ]
  },
  {
   "cell_type": "code",
   "execution_count": 84,
   "metadata": {},
   "outputs": [
    {
     "data": {
      "text/plain": [
       "(latitude             longitude           -0.923981\n",
       " bedrooms_per_room    median_income       -0.609009\n",
       " rooms_per_household  bedrooms_per_room   -0.421988\n",
       " dtype: float64,\n",
       " total_rooms     households        0.920379\n",
       " total_bedrooms  total_rooms       0.928249\n",
       " households      total_bedrooms    0.982014\n",
       " dtype: float64)"
      ]
     },
     "execution_count": 84,
     "metadata": {},
     "output_type": "execute_result"
    }
   ],
   "source": [
    "from sklearn.model_selection import train_test_split\n",
    "\n",
    "y = df['median_house_value']\n",
    "X = df.drop(columns=['median_house_value'])\n",
    "X_train, X_rem, y_train, y_rem = train_test_split(X, y, test_size=0.4, random_state=42)\n",
    "X_test, X_val, y_test, y_val = train_test_split(X_rem, y_rem, test_size=0.5, random_state=42)\n",
    "len(X_train), len(X_val), len(X_test)\n",
    "corr_mat = X_train.drop(columns=['ocean_proximity']).corr().unstack().sort_values().drop_duplicates()\n",
    "corr_mat[corr_mat != 1].head(3), corr_mat[corr_mat != 1].tail(3)\n",
    "\n"
   ]
  },
  {
   "cell_type": "code",
   "execution_count": null,
   "metadata": {},
   "outputs": [],
   "source": []
  }
 ],
 "metadata": {
  "kernelspec": {
   "display_name": "Python 3.10.2 64-bit ('3.10.2')",
   "language": "python",
   "name": "python3"
  },
  "language_info": {
   "codemirror_mode": {
    "name": "ipython",
    "version": 3
   },
   "file_extension": ".py",
   "mimetype": "text/x-python",
   "name": "python",
   "nbconvert_exporter": "python",
   "pygments_lexer": "ipython3",
   "version": "3.10.2"
  },
  "orig_nbformat": 4,
  "vscode": {
   "interpreter": {
    "hash": "61bb9958da50a290ae0f9a812b02171b8ccacf6a475d2982b43d70ab706138eb"
   }
  }
 },
 "nbformat": 4,
 "nbformat_minor": 2
}
